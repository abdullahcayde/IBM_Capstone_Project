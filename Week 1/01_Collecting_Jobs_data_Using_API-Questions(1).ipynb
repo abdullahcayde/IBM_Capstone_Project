{
 "cells": [
  {
   "cell_type": "markdown",
   "metadata": {},
   "source": [
    "<p style=\"text-align:center\">\n",
    "    <a href=\"https://skills.network/?utm_medium=Exinfluencer&utm_source=Exinfluencer&utm_content=000026UJ&utm_term=10006555&utm_id=NA-SkillsNetwork-Channel-SkillsNetworkCoursesIBMDA0321ENSkillsNetwork21426264-2022-01-01\" target=\"_blank\">\n",
    "    <img src=\"https://cf-courses-data.s3.us.cloud-object-storage.appdomain.cloud/assets/logos/SN_web_lightmode.png\" width=\"200\" alt=\"Skills Network Logo\"  />\n",
    "    </a>\n",
    "</p>\n"
   ]
  },
  {
   "cell_type": "markdown",
   "metadata": {},
   "source": [
    "# **Collecting Job Data Using APIs**\n"
   ]
  },
  {
   "cell_type": "markdown",
   "metadata": {},
   "source": [
    "Estimated time needed: **45 to 60** minutes\n"
   ]
  },
  {
   "cell_type": "markdown",
   "metadata": {},
   "source": [
    "## Objectives\n"
   ]
  },
  {
   "cell_type": "markdown",
   "metadata": {},
   "source": [
    "After completing this lab, you will be able to:\n"
   ]
  },
  {
   "cell_type": "markdown",
   "metadata": {},
   "source": [
    "*   Collect job data from Jobs API\n",
    "*   Store the collected data into an excel spreadsheet.\n"
   ]
  },
  {
   "cell_type": "markdown",
   "metadata": {},
   "source": [
    "> <strong>Note: Before starting with the assignment make sure to read all the instructions and then move ahead with the coding part.</strong>\n"
   ]
  },
  {
   "cell_type": "markdown",
   "metadata": {},
   "source": [
    "#### Instructions\n"
   ]
  },
  {
   "cell_type": "markdown",
   "metadata": {},
   "source": [
    "To run the actual lab, firstly you need to click on the [Jobs_API](https://cf-courses-data.s3.us.cloud-object-storage.appdomain.cloud/IBM-DA0321EN-SkillsNetwork/labs/module%201/Accessing%20Data%20Using%20APIs/Jobs_API.ipynb) notebook link. The file contains flask code which is required to run the Jobs API data.\n",
    "\n",
    "Now, to run the code in the file that opens up follow the below steps.\n",
    "\n",
    "Step1: Download the file.\n",
    "\n",
    "Step2: Upload it on the IBM Watson studio. (If IBM Watson Cloud service does not work in your system, follow the alternate Step 2 below)\n",
    "\n",
    "Step2(alternate): Upload it in your SN labs environment using the upload button which is highlighted in red in the image below:\n",
    "Remember to upload this Jobs_API file in the same folder as your current .ipynb file\n",
    "\n",
    "<img src=\"https://cf-courses-data.s3.us.cloud-object-storage.appdomain.cloud/IBM-DA0321EN-SkillsNetwork/labs/module%201/Accessing%20Data%20Using%20APIs/Upload.PNG\" />\n",
    "\n",
    "Step3:  Run all the cells of the Jobs_API file. (Even if you receive an asterik sign after running the last cell, the code works fine.)\n",
    "\n",
    "If you want to learn more about flask, which is optional, you can click on this link [here](https://cf-courses-data.s3.us.cloud-object-storage.appdomain.cloud/IBM-DA0321EN-SkillsNetwork/labs/module%201/Accessing%20Data%20Using%20APIs/FLASK_API.md.html).\n",
    "\n",
    "Once you run the flask code, you can start with your assignment.\n"
   ]
  },
  {
   "cell_type": "markdown",
   "metadata": {},
   "source": [
    "## Dataset Used in this Assignment\n",
    "\n",
    "The dataset used in this lab comes from the following source: [https://www.kaggle.com/promptcloud/jobs-on-naukricom](https://www.kaggle.com/promptcloud/jobs-on-naukricom?utm_medium=Exinfluencer&utm_source=Exinfluencer&utm_content=000026UJ&utm_term=10006555&utm_id=NA-SkillsNetwork-Channel-SkillsNetworkCoursesIBMDA0321ENSkillsNetwork21426264-2022-01-01) under the under a **Public Domain license**.\n",
    "\n",
    "> Note: We are using a modified subset of that dataset for the lab, so to follow the lab instructions successfully please use the dataset provided with the lab, rather than the dataset from the original source.\n",
    "\n",
    "The original dataset is a csv. We have converted the csv to json as per the requirement of the lab.\n"
   ]
  },
  {
   "cell_type": "markdown",
   "metadata": {},
   "source": [
    "## Warm-Up Exercise\n"
   ]
  },
  {
   "cell_type": "markdown",
   "metadata": {},
   "source": [
    "Before you attempt the actual lab, here is a fully solved warmup exercise that will help you to learn how to access an API.\n"
   ]
  },
  {
   "cell_type": "markdown",
   "metadata": {},
   "source": [
    "Using an API, let us find out who currently are on the International Space Station (ISS).<br> The API at [http://api.open-notify.org/astros.json](http://api.open-notify.org/astros.json?utm_medium=Exinfluencer&utm_source=Exinfluencer&utm_content=000026UJ&utm_term=10006555&utm_id=NA-SkillsNetwork-Channel-SkillsNetworkCoursesIBMDA0321ENSkillsNetwork21426264-2021-01-01&cm_mmc=Email_Newsletter-\\_-Developer_Ed%2BTech-\\_-WW_WW-\\_-SkillsNetwork-Courses-IBM-DA0321EN-SkillsNetwork-21426264&cm_mmca1=000026UJ&cm_mmca2=10006555&cm_mmca3=M12345678&cvosrc=email.Newsletter.M12345678&cvo_campaign=000026UJ) gives us the information of astronauts currently on ISS in json format.<br>\n",
    "You can read more about this API at [http://open-notify.org/Open-Notify-API/People-In-Space/](http://open-notify.org/Open-Notify-API/People-In-Space?utm_medium=Exinfluencer&utm_source=Exinfluencer&utm_content=000026UJ&utm_term=10006555&utm_id=NA-SkillsNetwork-Channel-SkillsNetworkCoursesIBMDA0321ENSkillsNetwork21426264-2021-01-01&cm_mmc=Email_Newsletter-\\_-Developer_Ed%2BTech-\\_-WW_WW-\\_-SkillsNetwork-Courses-IBM-DA0321EN-SkillsNetwork-21426264&cm_mmca1=000026UJ&cm_mmca2=10006555&cm_mmca3=M12345678&cvosrc=email.Newsletter.M12345678&cvo_campaign=000026UJ)\n"
   ]
  },
  {
   "cell_type": "code",
   "execution_count": 1,
   "metadata": {},
   "outputs": [],
   "source": [
    "import requests # you need this module to make an API call\n",
    "import pandas as pd"
   ]
  },
  {
   "cell_type": "code",
   "execution_count": 2,
   "metadata": {},
   "outputs": [],
   "source": [
    "api_url = \"http://api.open-notify.org/astros.json\" # this url gives use the astronaut data"
   ]
  },
  {
   "cell_type": "code",
   "execution_count": 3,
   "metadata": {},
   "outputs": [],
   "source": [
    "response = requests.get(api_url) # Call the API using the get method and store the\n",
    "                                # output of the API call in a variable called response."
   ]
  },
  {
   "cell_type": "code",
   "execution_count": 4,
   "metadata": {},
   "outputs": [],
   "source": [
    "if response.ok:             # if all is well() no errors, no network timeouts)\n",
    "    data = response.json()  # store the result in json format in a variable called data\n",
    "                            # the variable data is of type dictionary."
   ]
  },
  {
   "cell_type": "code",
   "execution_count": null,
   "metadata": {},
   "outputs": [],
   "source": []
  },
  {
   "cell_type": "code",
   "execution_count": 5,
   "metadata": {},
   "outputs": [
    {
     "name": "stdout",
     "output_type": "stream",
     "text": [
      "{'number': 14, 'message': 'success', 'people': [{'name': 'Kjell Lindgren', 'craft': 'ISS'}, {'name': 'Bob Hines', 'craft': 'ISS'}, {'name': 'Samantha Cristoforetti', 'craft': 'ISS'}, {'name': 'Jessica Watkins', 'craft': 'ISS'}, {'name': 'Cai Xuzhe', 'craft': 'Tiangong'}, {'name': 'Chen Dong', 'craft': 'Tiangong'}, {'name': 'Liu Yang', 'craft': 'Tiangong'}, {'name': 'Sergey Prokopyev', 'craft': 'ISS'}, {'name': 'Dmitry Petelin', 'craft': 'ISS'}, {'name': 'Frank Rubio', 'craft': 'ISS'}, {'name': 'Nicole Mann', 'craft': 'ISS'}, {'name': 'Josh Cassada', 'craft': 'ISS'}, {'name': 'Koichi Wakata', 'craft': 'ISS'}, {'name': 'Anna Kikina', 'craft': 'ISS'}]}\n"
     ]
    }
   ],
   "source": [
    "print(data)   # print the data just to check the output or for debugging"
   ]
  },
  {
   "cell_type": "markdown",
   "metadata": {},
   "source": [
    "Print the number of astronauts currently on ISS.\n"
   ]
  },
  {
   "cell_type": "code",
   "execution_count": 6,
   "metadata": {},
   "outputs": [
    {
     "name": "stdout",
     "output_type": "stream",
     "text": [
      "14\n"
     ]
    }
   ],
   "source": [
    "print(data.get('number'))"
   ]
  },
  {
   "cell_type": "markdown",
   "metadata": {},
   "source": [
    "Print the names of the astronauts currently on ISS.\n"
   ]
  },
  {
   "cell_type": "code",
   "execution_count": 7,
   "metadata": {},
   "outputs": [
    {
     "name": "stdout",
     "output_type": "stream",
     "text": [
      "There are 14 astronauts on ISS\n",
      "And their names are :\n",
      "Kjell Lindgren\n",
      "Bob Hines\n",
      "Samantha Cristoforetti\n",
      "Jessica Watkins\n",
      "Cai Xuzhe\n",
      "Chen Dong\n",
      "Liu Yang\n",
      "Sergey Prokopyev\n",
      "Dmitry Petelin\n",
      "Frank Rubio\n",
      "Nicole Mann\n",
      "Josh Cassada\n",
      "Koichi Wakata\n",
      "Anna Kikina\n"
     ]
    }
   ],
   "source": [
    "astronauts = data.get('people')\n",
    "print(\"There are {} astronauts on ISS\".format(len(astronauts)))\n",
    "print(\"And their names are :\")\n",
    "for astronaut in astronauts:\n",
    "    print(astronaut.get('name'))"
   ]
  },
  {
   "cell_type": "markdown",
   "metadata": {},
   "source": [
    "Hope the warmup was helpful. Good luck with your next lab!\n"
   ]
  },
  {
   "cell_type": "markdown",
   "metadata": {},
   "source": [
    "## Lab: Collect Jobs Data using Jobs API\n"
   ]
  },
  {
   "cell_type": "markdown",
   "metadata": {},
   "source": [
    "### Objective: Determine the number of jobs currently open for various technologies  and for various locations\n"
   ]
  },
  {
   "cell_type": "markdown",
   "metadata": {},
   "source": [
    "Collect the number of job postings for the following locations using the API:\n",
    "\n",
    "*   Los Angeles\n",
    "*   New York\n",
    "*   San Francisco\n",
    "*   Washington DC\n",
    "*   Seattle\n",
    "*   Austin\n",
    "*   Detroit\n"
   ]
  },
  {
   "cell_type": "code",
   "execution_count": null,
   "metadata": {},
   "outputs": [],
   "source": [
    "#Import required libraries\n",
    "import pandas as pd\n",
    "import json"
   ]
  },
  {
   "cell_type": "markdown",
   "metadata": {},
   "source": [
    "#### Write a function to get the number of jobs for the Python technology.<br>\n",
    "\n",
    "> Note: While using the lab you need to pass the **payload** information for the **params** attribute in the form of **key** **value** pairs.\n",
    "\n",
    "Refer the ungraded **rest api lab** in the course **Python for Data Science, AI & Development**  <a href=\"https://www.coursera.org/learn/python-for-applied-data-science-ai/ungradedLti/P6sW8/hands-on-lab-access-rest-apis-request-http?utm_medium=Exinfluencer&utm_source=Exinfluencer&utm_content=000026UJ&utm_term=10006555&utm_id=NA-SkillsNetwork-Channel-SkillsNetworkCoursesIBMDA0321ENSkillsNetwork21426264-2022-01-01\">link</a>\n",
    "\n",
    "##### The keys in the json are\n",
    "\n",
    "*   Job Title\n",
    "\n",
    "*   Job Experience Required\n",
    "\n",
    "*   Key Skills\n",
    "\n",
    "*   Role Category\n",
    "\n",
    "*   Location\n",
    "\n",
    "*   Functional Area\n",
    "\n",
    "*   Industry\n",
    "\n",
    "*   Role\n",
    "\n",
    "You can also view  the json file contents  from the following <a href = \"https://cf-courses-data.s3.us.cloud-object-storage.appdomain.cloud/IBM-DA0321EN-SkillsNetwork/labs/module%201/Accessing%20Data%20Using%20APIs/jobs.json?utm_medium=Exinfluencer&utm_source=Exinfluencer&utm_content=000026UJ&utm_term=10006555&utm_id=NA-SkillsNetwork-Channel-SkillsNetworkCoursesIBMDA0321ENSkillsNetwork21426264-2022-01-01\">json</a> URL.\n"
   ]
  },
  {
   "cell_type": "code",
   "execution_count": null,
   "metadata": {},
   "outputs": [],
   "source": [
    "api_url=\"http://127.0.0.1:5000/data\"\n",
    "def get_number_of_jobs_T(technology):\n",
    "    number_of_jobs = 0\n",
    "    page=0\n",
    "    new_results=1\n",
    "    while new_results>0:\n",
    "        payload={\"Job Title\":technology,\"page\":page}\n",
    "        r=requests.get(api_url,payload)\n",
    "        new_results =len(r.json())\n",
    "        page+=1\n",
    "        number_of_jobs+=(len(r.json()))\n",
    "    return technology,number_of_jobs\n",
    "    #your code goes here\n",
    "    return technology,number_of_jobs"
   ]
  },
  {
   "cell_type": "markdown",
   "metadata": {},
   "source": [
    "Calling the function for Python and checking if it works.\n"
   ]
  },
  {
   "cell_type": "code",
   "execution_count": null,
   "metadata": {},
   "outputs": [],
   "source": [
    "get_number_of_jobs_T(\"Python\")"
   ]
  },
  {
   "cell_type": "markdown",
   "metadata": {},
   "source": [
    "#### Write a function to find number of jobs in US for a location of your choice\n"
   ]
  },
  {
   "cell_type": "code",
   "execution_count": null,
   "metadata": {},
   "outputs": [],
   "source": [
    "def get_number_of_jobs_L(location):\n",
    "    number_of_jobs = 0\n",
    "    page=0\n",
    "    new_results=1\n",
    "    while new_results>0:\n",
    "        payload={\"Location\":location,\"page\":page}\n",
    "        r=requests.get(api_url,payload)\n",
    "        new_results =len(r.json())\n",
    "        page+=1\n",
    "        number_of_jobs+=(len(r.json()))\n",
    "    return technology,number_of_jobs\n",
    "    #your code goes here\n",
    "    return location,number_of_jobs"
   ]
  },
  {
   "cell_type": "markdown",
   "metadata": {},
   "source": [
    "Call the function for Los Angeles and check if it is working.\n"
   ]
  },
  {
   "cell_type": "code",
   "execution_count": null,
   "metadata": {},
   "outputs": [],
   "source": [
    "#your code goes here\n",
    "get_number_of_jobs_L(\"Los Angeles\")"
   ]
  },
  {
   "cell_type": "code",
   "execution_count": 8,
   "metadata": {},
   "outputs": [],
   "source": [
    "# My Solution \n",
    "# I have problem to connect api_url because of that I use api2_url .\n",
    "\n",
    "api2_url = \"https://cf-courses-data.s3.us.cloud-object-storage.appdomain.cloud/IBM-DA0321EN-SkillsNetwork/labs/module%201/Accessing%20Data%20Using%20APIs/jobs.json?utm_medium=Exinfluencer&utm_source=Exinfluencer&utm_content=000026UJ&utm_term=10006555&utm_id=NA-SkillsNetwork-Channel-SkillsNetworkCoursesIBMDA0321ENSkillsNetwork21426264-2022-01-01\"\n",
    "r = requests.get(api2_url)\n",
    "data = r.json()"
   ]
  },
  {
   "cell_type": "code",
   "execution_count": 9,
   "metadata": {},
   "outputs": [
    {
     "data": {
      "text/plain": [
       "27005"
      ]
     },
     "execution_count": 9,
     "metadata": {},
     "output_type": "execute_result"
    }
   ],
   "source": [
    "len(data)"
   ]
  },
  {
   "cell_type": "code",
   "execution_count": 10,
   "metadata": {
    "tags": []
   },
   "outputs": [
    {
     "name": "stdout",
     "output_type": "stream",
     "text": [
      "('Python', 1173)\n",
      "('Los Angeles', 640)\n",
      "('Python', 'Los Angeles', 24)\n"
     ]
    }
   ],
   "source": [
    "# Functions \n",
    "\n",
    "def get_number_of_jobs_T(technology):\n",
    "    #global technology\n",
    "    #r = requests.get(api2_url)\n",
    "    #data = r.json()\n",
    "    number_of_jobs = 0\n",
    "    for i in range (0,len(data)):\n",
    "        if (technology in  data[i][\"Key Skills\"]):\n",
    "            number_of_jobs += 1\n",
    "    return technology,number_of_jobs\n",
    "\n",
    "print(get_number_of_jobs_T(\"Python\"))\n",
    "\n",
    "def get_number_of_jobs_L(location):\n",
    "    number_of_jobs = 0\n",
    "    for i in range (0,len(data)):\n",
    "        if location in  data[i][\"Location\"]:\n",
    "            number_of_jobs += 1\n",
    "    return location,number_of_jobs\n",
    "\n",
    "print(get_number_of_jobs_L(\"Los Angeles\"))\n",
    "\n",
    "def get_number_of_jobs_J_and_L(technology,location):\n",
    "    number_of_jobs = 0\n",
    "    for i in range (0,len(data)):\n",
    "        if (technology in  data[i][\"Key Skills\"]) and (location in  data[i][\"Location\"]):\n",
    "            number_of_jobs += 1\n",
    "    return technology,location,number_of_jobs\n",
    "\n",
    "print(get_number_of_jobs_J_and_L(\"Python\", \"Los Angeles\"))"
   ]
  },
  {
   "cell_type": "code",
   "execution_count": 11,
   "metadata": {},
   "outputs": [
    {
     "name": "stdout",
     "output_type": "stream",
     "text": [
      "{'New Orleons', 'Philadelphia', 'Baltimore', 'Washington DC', 'San Francisco', 'Austin', 'Boston', 'New York', 'Houston', 'Dallas', 'Detroit', 'Los Angeles', 'Seattle'}\n"
     ]
    }
   ],
   "source": [
    "# All Locations\n",
    "l = []\n",
    "for i in range (0,len(data)):\n",
    "    l.append(data[i][\"Location\"])\n",
    "print(set(l))"
   ]
  },
  {
   "cell_type": "code",
   "execution_count": 12,
   "metadata": {},
   "outputs": [
    {
     "name": "stdout",
     "output_type": "stream",
     "text": [
      "List of jobs with number of jobs : \n",
      " [('MySQL Server', 0), ('PostgreSQLappend', 0), ('Scala', 33), ('MongoDB', 174), ('SQL Server', 250), ('C++', 305), ('C#', 333), ('JavaScript', 355), ('Oracle', 784), ('Python', 1173), ('Java', 2609), ('C', 13498)]\n",
      "\n",
      "\n",
      "Number of jobs with locations : \n",
      " [('Philadelphia', 41), ('Austin', 434), ('San Francisco', 435), ('Los Angeles', 640), ('New Orleons', 817), ('Dallas', 1208), ('Baltimore', 1263), ('Boston', 2966), ('New York', 3226), ('Houston', 3339), ('Seattle', 3375), ('Detroit', 3945), ('Washington DC', 5316)]\n"
     ]
    }
   ],
   "source": [
    "jobs_list = [\"C\", \"C#\",\"C++\", \"Java\", \"JavaScript\", \"Python\", \"Scala\", \"Oracle\", \"SQL Server\", \"MySQL Server\", \"PostgreSQLappend\", \"MongoDB\"]\n",
    "location_list = ['San Francisco', 'Philadelphia', 'Baltimore', 'Austin', 'Los Angeles', 'New York', 'Washington DC', 'Houston', 'New Orleons', 'Dallas', 'Detroit', 'Seattle', 'Boston']\n",
    "jobs = []\n",
    "loc = []\n",
    "for i in jobs_list:\n",
    "    #print(get_number_of_jobs_T(i))\n",
    "    jobs.append(get_number_of_jobs_T(i))\n",
    "print(\"List of jobs with number of jobs : \\n\", sorted(jobs, key=lambda x : x[1]))\n",
    "\n",
    "print(\"\\n\")\n",
    "\n",
    "for i in location_list:\n",
    "    #print(get_number_of_jobs_L(i))\n",
    "    loc.append(get_number_of_jobs_L(i))\n",
    "print(\"Number of jobs with locations : \\n\", sorted(loc, key= lambda x : x[1]))"
   ]
  },
  {
   "cell_type": "code",
   "execution_count": 13,
   "metadata": {},
   "outputs": [
    {
     "name": "stdout",
     "output_type": "stream",
     "text": [
      "[('C', 'Austin', 224), ('C', 'Baltimore', 651), ('C', 'Boston', 1525), ('C', 'Dallas', 590), ('C', 'Detroit', 1973), ('C', 'Houston', 1638), ('C', 'Los Angeles', 296), ('C', 'New Orleons', 413), ('C', 'New York', 1622), ('C', 'Philadelphia', 20), ('C', 'San Francisco', 214), ('C', 'Seattle', 1668), ('C', 'Washington DC', 2664), ('C#', 'Austin', 5), ('C#', 'Baltimore', 14), ('C#', 'Boston', 30), ('C#', 'Dallas', 21), ('C#', 'Detroit', 60), ('C#', 'Houston', 29), ('C#', 'Los Angeles', 5), ('C#', 'New Orleons', 7), ('C#', 'New York', 41), ('C#', 'Philadelphia', 1), ('C#', 'San Francisco', 3), ('C#', 'Seattle', 49), ('C#', 'Washington DC', 68), ('C++', 'Austin', 4), ('C++', 'Baltimore', 18), ('C++', 'Boston', 38), ('C++', 'Dallas', 17), ('C++', 'Detroit', 32), ('C++', 'Houston', 42), ('C++', 'Los Angeles', 3), ('C++', 'New Orleons', 9), ('C++', 'New York', 43), ('C++', 'Philadelphia', 0), ('C++', 'San Francisco', 3), ('C++', 'Seattle', 41), ('C++', 'Washington DC', 55), ('Java', 'Austin', 32), ('Java', 'Baltimore', 129), ('Java', 'Boston', 298), ('Java', 'Dallas', 116), ('Java', 'Detroit', 353), ('Java', 'Houston', 322), ('Java', 'Los Angeles', 43), ('Java', 'New Orleons', 80), ('Java', 'New York', 326), ('Java', 'Philadelphia', 2), ('Java', 'San Francisco', 38), ('Java', 'Seattle', 354), ('Java', 'Washington DC', 516), ('JavaScript', 'Austin', 5), ('JavaScript', 'Baltimore', 15), ('JavaScript', 'Boston', 44), ('JavaScript', 'Dallas', 16), ('JavaScript', 'Detroit', 41), ('JavaScript', 'Houston', 44), ('JavaScript', 'Los Angeles', 7), ('JavaScript', 'New Orleons', 11), ('JavaScript', 'New York', 51), ('JavaScript', 'Philadelphia', 1), ('JavaScript', 'San Francisco', 7), ('JavaScript', 'Seattle', 52), ('JavaScript', 'Washington DC', 61), ('MongoDB', 'Austin', 1), ('MongoDB', 'Baltimore', 8), ('MongoDB', 'Boston', 22), ('MongoDB', 'Dallas', 4), ('MongoDB', 'Detroit', 25), ('MongoDB', 'Houston', 24), ('MongoDB', 'Los Angeles', 2), ('MongoDB', 'New Orleons', 8), ('MongoDB', 'New York', 25), ('MongoDB', 'Philadelphia', 0), ('MongoDB', 'San Francisco', 2), ('MongoDB', 'Seattle', 21), ('MongoDB', 'Washington DC', 32), ('MySQL Server', 'Austin', 0), ('MySQL Server', 'Baltimore', 0), ('MySQL Server', 'Boston', 0), ('MySQL Server', 'Dallas', 0), ('MySQL Server', 'Detroit', 0), ('MySQL Server', 'Houston', 0), ('MySQL Server', 'Los Angeles', 0), ('MySQL Server', 'New Orleons', 0), ('MySQL Server', 'New York', 0), ('MySQL Server', 'Philadelphia', 0), ('MySQL Server', 'San Francisco', 0), ('MySQL Server', 'Seattle', 0), ('MySQL Server', 'Washington DC', 0), ('Oracle', 'Austin', 11), ('Oracle', 'Baltimore', 33), ('Oracle', 'Boston', 79), ('Oracle', 'Dallas', 35), ('Oracle', 'Detroit', 115), ('Oracle', 'Houston', 100), ('Oracle', 'Los Angeles', 17), ('Oracle', 'New Orleons', 25), ('Oracle', 'New York', 95), ('Oracle', 'Philadelphia', 2), ('Oracle', 'San Francisco', 19), ('Oracle', 'Seattle', 110), ('Oracle', 'Washington DC', 143), ('PostgreSQLappend', 'Austin', 0), ('PostgreSQLappend', 'Baltimore', 0), ('PostgreSQLappend', 'Boston', 0), ('PostgreSQLappend', 'Dallas', 0), ('PostgreSQLappend', 'Detroit', 0), ('PostgreSQLappend', 'Houston', 0), ('PostgreSQLappend', 'Los Angeles', 0), ('PostgreSQLappend', 'New Orleons', 0), ('PostgreSQLappend', 'New York', 0), ('PostgreSQLappend', 'Philadelphia', 0), ('PostgreSQLappend', 'San Francisco', 0), ('PostgreSQLappend', 'Seattle', 0), ('PostgreSQLappend', 'Washington DC', 0), ('Python', 'Austin', 15), ('Python', 'Baltimore', 43), ('Python', 'Boston', 129), ('Python', 'Dallas', 48), ('Python', 'Detroit', 170), ('Python', 'Houston', 151), ('Python', 'Los Angeles', 24), ('Python', 'New Orleons', 42), ('Python', 'New York', 143), ('Python', 'Philadelphia', 0), ('Python', 'San Francisco', 17), ('Python', 'Seattle', 133), ('Python', 'Washington DC', 258), ('SQL Server', 'Austin', 5), ('SQL Server', 'Baltimore', 11), ('SQL Server', 'Boston', 23), ('SQL Server', 'Dallas', 11), ('SQL Server', 'Detroit', 34), ('SQL Server', 'Houston', 33), ('SQL Server', 'Los Angeles', 3), ('SQL Server', 'New Orleons', 8), ('SQL Server', 'New York', 36), ('SQL Server', 'Philadelphia', 0), ('SQL Server', 'San Francisco', 2), ('SQL Server', 'Seattle', 31), ('SQL Server', 'Washington DC', 53), ('Scala', 'Austin', 1), ('Scala', 'Baltimore', 2), ('Scala', 'Boston', 1), ('Scala', 'Dallas', 2), ('Scala', 'Detroit', 5), ('Scala', 'Houston', 5), ('Scala', 'Los Angeles', 0), ('Scala', 'New Orleons', 2), ('Scala', 'New York', 8), ('Scala', 'Philadelphia', 0), ('Scala', 'San Francisco', 0), ('Scala', 'Seattle', 4), ('Scala', 'Washington DC', 3)]\n"
     ]
    }
   ],
   "source": [
    "jobs_loc = []\n",
    "for i in jobs_list:\n",
    "    for j in location_list:\n",
    "        jobs_loc.append(get_number_of_jobs_J_and_L(i,j))\n",
    "print(sorted(jobs_loc))"
   ]
  },
  {
   "cell_type": "code",
   "execution_count": null,
   "metadata": {},
   "outputs": [],
   "source": []
  },
  {
   "cell_type": "markdown",
   "metadata": {
    "tags": []
   },
   "source": [
    "### Store the results in an excel file\n"
   ]
  },
  {
   "cell_type": "markdown",
   "metadata": {},
   "source": [
    "Call the API for all the given technologies above and write the results in an excel spreadsheet.\n"
   ]
  },
  {
   "cell_type": "markdown",
   "metadata": {},
   "source": [
    "If you do not know how create excel file using python, double click here for **hints**.\n",
    "\n",
    "<!--\n",
    "\n",
    "from openpyxl import Workbook        # import Workbook class from module openpyxl\n",
    "wb=Workbook()                        # create a workbook object\n",
    "ws=wb.active                         # use the active worksheet\n",
    "ws.append(['Country','Continent'])   # add a row with two columns 'Country' and 'Continent'\n",
    "ws.append(['Eygpt','Africa'])        # add a row with two columns 'Egypt' and 'Africa'\n",
    "ws.append(['India','Asia'])          # add another row\n",
    "ws.append(['France','Europe'])       # add another row\n",
    "wb.save(\"countries.xlsx\")            # save the workbook into a file called countries.xlsx\n",
    "\n",
    "\n",
    "-->\n"
   ]
  },
  {
   "cell_type": "markdown",
   "metadata": {},
   "source": [
    "Create a python list of all locations for which you need to find the number of jobs postings.\n"
   ]
  },
  {
   "cell_type": "code",
   "execution_count": 14,
   "metadata": {},
   "outputs": [
    {
     "name": "stdout",
     "output_type": "stream",
     "text": [
      "Number of jobs with locations : \n",
      " [('San Francisco', 435), ('Philadelphia', 41), ('Baltimore', 1263), ('Austin', 434), ('Los Angeles', 640), ('New York', 3226), ('Washington DC', 5316), ('Houston', 3339), ('New Orleons', 817), ('Dallas', 1208), ('Detroit', 3945), ('Seattle', 3375), ('Boston', 2966), ('San Francisco', 435), ('Philadelphia', 41), ('Baltimore', 1263), ('Austin', 434), ('Los Angeles', 640), ('New York', 3226), ('Washington DC', 5316), ('Houston', 3339), ('New Orleons', 817), ('Dallas', 1208), ('Detroit', 3945), ('Seattle', 3375), ('Boston', 2966)]\n"
     ]
    }
   ],
   "source": [
    "#your code goes here\n",
    "for i in location_list:\n",
    "    loc.append(get_number_of_jobs_L(i))\n",
    "print(\"Number of jobs with locations : \\n\", loc)"
   ]
  },
  {
   "cell_type": "markdown",
   "metadata": {},
   "source": [
    "Import libraries required to create excel spreadsheet\n"
   ]
  },
  {
   "cell_type": "code",
   "execution_count": 15,
   "metadata": {},
   "outputs": [],
   "source": [
    "# your code goes here\n",
    "from openpyxl import Workbook, load_workbook"
   ]
  },
  {
   "cell_type": "markdown",
   "metadata": {},
   "source": [
    "Create a workbook and select the active worksheet\n"
   ]
  },
  {
   "cell_type": "code",
   "execution_count": 16,
   "metadata": {
    "tags": []
   },
   "outputs": [],
   "source": [
    "# your code goes here\n",
    "wb = Workbook()\n",
    "ws = wb.active"
   ]
  },
  {
   "cell_type": "markdown",
   "metadata": {},
   "source": [
    "Find the number of jobs postings for each of the location in the above list.\n",
    "Write the Location name and the number of jobs postings into the excel spreadsheet.\n"
   ]
  },
  {
   "cell_type": "code",
   "execution_count": 17,
   "metadata": {},
   "outputs": [],
   "source": [
    "#your code goes here\n",
    "ws.title = \"Jobs&Locs\"\n",
    "ws.append([\"Technology\", \"Location\", \"Num_of_Jobs\"])\n",
    "jobs_loc = []\n",
    "for i in jobs_list:\n",
    "    for j in location_list:\n",
    "        jobs_loc.append(get_number_of_jobs_J_and_L(i,j))\n",
    "        ws.append([get_number_of_jobs_J_and_L(i,j)[0], get_number_of_jobs_J_and_L(i,j)[1], get_number_of_jobs_J_and_L(i,j)[2]])\n",
    "#print(jobs_loc)"
   ]
  },
  {
   "cell_type": "markdown",
   "metadata": {},
   "source": [
    "Save into an excel spreadsheet named 'job-postings.xlsx'.\n"
   ]
  },
  {
   "cell_type": "code",
   "execution_count": 18,
   "metadata": {},
   "outputs": [],
   "source": [
    "#your code goes here\n",
    "wb.save(\"job-postings.xlsx\")"
   ]
  },
  {
   "cell_type": "markdown",
   "metadata": {},
   "source": [
    "#### In the similar way, you can try for below given technologies and results  can be stored in an excel sheet.\n"
   ]
  },
  {
   "cell_type": "markdown",
   "metadata": {},
   "source": [
    "Collect the number of job postings for the following languages using the API:\n",
    "\n",
    "*   C\n",
    "*   C#\n",
    "*   C++\n",
    "*   Java\n",
    "*   JavaScript\n",
    "*   Python\n",
    "*   Scala\n",
    "*   Oracle\n",
    "*   SQL Server\n",
    "*   MySQL Server\n",
    "*   PostgreSQL\n",
    "*   MongoDB\n"
   ]
  },
  {
   "cell_type": "code",
   "execution_count": 19,
   "metadata": {},
   "outputs": [],
   "source": [
    "# your code goes here\n",
    "# I did all jobs above the celll"
   ]
  },
  {
   "cell_type": "markdown",
   "metadata": {},
   "source": [
    "## Author\n"
   ]
  },
  {
   "cell_type": "markdown",
   "metadata": {},
   "source": [
    "Ayushi Jain\n"
   ]
  },
  {
   "cell_type": "markdown",
   "metadata": {},
   "source": [
    "### Other Contributors\n"
   ]
  },
  {
   "cell_type": "markdown",
   "metadata": {},
   "source": [
    "Rav Ahuja\n",
    "\n",
    "Lakshmi Holla\n",
    "\n",
    "Malika\n"
   ]
  },
  {
   "cell_type": "markdown",
   "metadata": {},
   "source": [
    "## Change Log\n"
   ]
  },
  {
   "cell_type": "markdown",
   "metadata": {},
   "source": [
    "| Date (YYYY-MM-DD) | Version | Changed By        | Change Description                 |\n",
    "| ----------------- | ------- | ----------------- | ---------------------------------- |\n",
    "| 2022-01-19        | 0.3     | Lakshmi Holla     | Added changes in the markdown      |\n",
    "| 2021-06-25        | 0.2     | Malika            | Updated GitHub job json link       |\n",
    "| 2020-10-17        | 0.1     | Ramesh Sannareddy | Created initial version of the lab |\n"
   ]
  },
  {
   "cell_type": "markdown",
   "metadata": {},
   "source": [
    "Copyright © 2022 IBM Corporation. All rights reserved.\n"
   ]
  }
 ],
 "metadata": {
  "kernelspec": {
   "display_name": "Python 3 (ipykernel)",
   "language": "python",
   "name": "python3"
  },
  "language_info": {
   "codemirror_mode": {
    "name": "ipython",
    "version": 3
   },
   "file_extension": ".py",
   "mimetype": "text/x-python",
   "name": "python",
   "nbconvert_exporter": "python",
   "pygments_lexer": "ipython3",
   "version": "3.9.12"
  }
 },
 "nbformat": 4,
 "nbformat_minor": 4
}
