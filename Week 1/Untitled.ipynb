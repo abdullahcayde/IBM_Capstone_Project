{
 "cells": [
  {
   "cell_type": "code",
   "execution_count": 2,
   "id": "979c2b79-9a49-45fd-8335-9ce12764d966",
   "metadata": {},
   "outputs": [],
   "source": [
    "import pandas as pd\n",
    "import json\n",
    "import requests"
   ]
  },
  {
   "cell_type": "code",
   "execution_count": 4,
   "id": "977200ca-7000-4c13-a6a3-f0d8e98768a0",
   "metadata": {},
   "outputs": [],
   "source": [
    "#api_url=\"http://127.0.0.1:5000/data\"\n",
    "api2_url = \"https://cf-courses-data.s3.us.cloud-object-storage.appdomain.cloud/IBM-DA0321EN-SkillsNetwork/labs/module%201/Accessing%20Data%20Using%20APIs/jobs.json?utm_medium=Exinfluencer&utm_source=Exinfluencer&utm_content=000026UJ&utm_term=10006555&utm_id=NA-SkillsNetwork-Channel-SkillsNetworkCoursesIBMDA0321ENSkillsNetwork21426264-2022-01-01\"\n",
    "r = requests.get(api2_url)\n",
    "data = r.json()"
   ]
  },
  {
   "cell_type": "code",
   "execution_count": 5,
   "id": "d57a84a1-f519-4019-b155-ae9b42590265",
   "metadata": {},
   "outputs": [
    {
     "data": {
      "text/plain": [
       "27005"
      ]
     },
     "execution_count": 5,
     "metadata": {},
     "output_type": "execute_result"
    }
   ],
   "source": [
    "len(data)"
   ]
  },
  {
   "cell_type": "code",
   "execution_count": 60,
   "id": "f3d9a0b0-7d26-44ea-b4ec-930c31781b3e",
   "metadata": {},
   "outputs": [
    {
     "data": {
      "text/plain": [
       "('Python', 1173)"
      ]
     },
     "execution_count": 60,
     "metadata": {},
     "output_type": "execute_result"
    }
   ],
   "source": [
    "def get_number_of_jobs_T(technology):\n",
    "    #global technology\n",
    "    #r = requests.get(api2_url)\n",
    "    #data = r.json()\n",
    "    number_of_jobs = 0\n",
    "    for i in range (0,len(data)):\n",
    "        if (technology in  data[i][\"Key Skills\"]):\n",
    "            number_of_jobs += 1\n",
    "    return technology,number_of_jobs\n",
    "\n",
    "get_number_of_jobs_T(\"Python\")"
   ]
  },
  {
   "cell_type": "code",
   "execution_count": 64,
   "id": "b4e6530f-7fca-449c-9c24-809db6bfd3f9",
   "metadata": {},
   "outputs": [
    {
     "name": "stdout",
     "output_type": "stream",
     "text": [
      "('Los Angeles', 640)\n",
      "('New York', 3226)\n",
      "('San Francisco', 435)\n",
      "('Washington DC', 5316)\n",
      "('Seattle', 3375)\n"
     ]
    }
   ],
   "source": [
    "def get_number_of_jobs_L(location):\n",
    "    number_of_jobs = 0\n",
    "    for i in range (0,len(data)):\n",
    "        if location in  data[i][\"Location\"]:\n",
    "            number_of_jobs += 1\n",
    "    return location,number_of_jobs\n",
    "\n",
    "L= [\"Los Angeles\", \"New York\", \"San Francisco\", \"Washington DC\", \"Seattle\"]\n",
    "\n",
    "for i in L:\n",
    "    print(get_number_of_jobs_L(i))\n",
    "    \n"
   ]
  },
  {
   "cell_type": "code",
   "execution_count": null,
   "id": "4aafbfe1-ac4d-4337-9692-e0562ce39f11",
   "metadata": {},
   "outputs": [],
   "source": [
    "# Normalde Olmasi Gereken ama Calismiyor\n",
    "\n",
    "baseurl = \"http://127.0.0.1:5000/data\"\n",
    "def get_number_of_jobs(technology):\n",
    "    number_of_jobs = 0\n",
    "    #your code goes here\n",
    "    page=0\n",
    "    new_results=1\n",
    "    while new_results>0:\n",
    "        payload={\"Job Title\":technology,\"page\":page}\n",
    "        r=requests.get(baseurl,payload)\n",
    "        new_results =len(r.json())\n",
    "        page+=1\n",
    "        number_of_jobs+=(len(r.json()))\n",
    "         \n",
    "    return technology,number_of_jobs\n",
    "\n",
    "get_number_of_jobs(\"Python\")"
   ]
  },
  {
   "cell_type": "code",
   "execution_count": null,
   "id": "04fb8a47-e453-40f7-9330-12ba59cedb1c",
   "metadata": {},
   "outputs": [],
   "source": []
  },
  {
   "cell_type": "code",
   "execution_count": 6,
   "id": "31a7ebe3-06d5-4269-9b01-975af3b51425",
   "metadata": {},
   "outputs": [
    {
     "data": {
      "text/html": [
       "<div>\n",
       "<style scoped>\n",
       "    .dataframe tbody tr th:only-of-type {\n",
       "        vertical-align: middle;\n",
       "    }\n",
       "\n",
       "    .dataframe tbody tr th {\n",
       "        vertical-align: top;\n",
       "    }\n",
       "\n",
       "    .dataframe thead th {\n",
       "        text-align: right;\n",
       "    }\n",
       "</style>\n",
       "<table border=\"1\" class=\"dataframe\">\n",
       "  <thead>\n",
       "    <tr style=\"text-align: right;\">\n",
       "      <th></th>\n",
       "      <th>Id</th>\n",
       "      <th>Job Title</th>\n",
       "      <th>Job Experience Required</th>\n",
       "      <th>Key Skills</th>\n",
       "      <th>Role Category</th>\n",
       "      <th>Location</th>\n",
       "      <th>Functional Area</th>\n",
       "      <th>Industry</th>\n",
       "      <th>Role</th>\n",
       "    </tr>\n",
       "  </thead>\n",
       "  <tbody>\n",
       "    <tr>\n",
       "      <th>0</th>\n",
       "      <td>0</td>\n",
       "      <td>Digital Media Planner</td>\n",
       "      <td>5 - 10 yrs</td>\n",
       "      <td>Media Planning| Digital Media</td>\n",
       "      <td>Advertising</td>\n",
       "      <td>Los Angeles</td>\n",
       "      <td>Marketing , Advertising , MR , PR , Media Plan...</td>\n",
       "      <td>Advertising, PR, MR, Event Management</td>\n",
       "      <td>Media Planning Executive/Manager</td>\n",
       "    </tr>\n",
       "    <tr>\n",
       "      <th>1</th>\n",
       "      <td>1</td>\n",
       "      <td>Online Bidding Executive</td>\n",
       "      <td>2 - 5 yrs</td>\n",
       "      <td>pre sales| closing| software knowledge| client...</td>\n",
       "      <td>Retail Sales</td>\n",
       "      <td>New York</td>\n",
       "      <td>Sales , Retail , Business Development</td>\n",
       "      <td>IT-Software, Software Services</td>\n",
       "      <td>Sales Executive/Officer</td>\n",
       "    </tr>\n",
       "    <tr>\n",
       "      <th>2</th>\n",
       "      <td>2</td>\n",
       "      <td>Trainee Research/ Research Executive- Hi- Tech...</td>\n",
       "      <td>0 - 1 yrs</td>\n",
       "      <td>Computer science| Fabrication| Quality check| ...</td>\n",
       "      <td>R&amp;D</td>\n",
       "      <td>San Francisco</td>\n",
       "      <td>Engineering Design , R&amp;D</td>\n",
       "      <td>Recruitment, Staffing</td>\n",
       "      <td>R&amp;D Executive</td>\n",
       "    </tr>\n",
       "    <tr>\n",
       "      <th>3</th>\n",
       "      <td>3</td>\n",
       "      <td>Technical Support</td>\n",
       "      <td>0 - 5 yrs</td>\n",
       "      <td>Technical Support</td>\n",
       "      <td>Admin/Maintenance/Security/Datawarehousing</td>\n",
       "      <td>Washington DC</td>\n",
       "      <td>IT Software - Application Programming , Mainte...</td>\n",
       "      <td>IT-Software, Software Services</td>\n",
       "      <td>Technical Support Engineer</td>\n",
       "    </tr>\n",
       "    <tr>\n",
       "      <th>4</th>\n",
       "      <td>4</td>\n",
       "      <td>Software Test Engineer -hyderabad</td>\n",
       "      <td>2 - 5 yrs</td>\n",
       "      <td>manual testing| test engineering| test cases| ...</td>\n",
       "      <td>Programming &amp; Design</td>\n",
       "      <td>Boston</td>\n",
       "      <td>IT Software - QA &amp; Testing</td>\n",
       "      <td>IT-Software, Software Services</td>\n",
       "      <td>Testing Engineer</td>\n",
       "    </tr>\n",
       "  </tbody>\n",
       "</table>\n",
       "</div>"
      ],
      "text/plain": [
       "   Id                                          Job Title  \\\n",
       "0   0                              Digital Media Planner   \n",
       "1   1                           Online Bidding Executive   \n",
       "2   2  Trainee Research/ Research Executive- Hi- Tech...   \n",
       "3   3                                  Technical Support   \n",
       "4   4                  Software Test Engineer -hyderabad   \n",
       "\n",
       "  Job Experience Required                                         Key Skills  \\\n",
       "0              5 - 10 yrs                      Media Planning| Digital Media   \n",
       "1               2 - 5 yrs  pre sales| closing| software knowledge| client...   \n",
       "2               0 - 1 yrs  Computer science| Fabrication| Quality check| ...   \n",
       "3               0 - 5 yrs                                  Technical Support   \n",
       "4               2 - 5 yrs  manual testing| test engineering| test cases| ...   \n",
       "\n",
       "                                Role Category       Location  \\\n",
       "0                                 Advertising    Los Angeles   \n",
       "1                                Retail Sales       New York   \n",
       "2                                         R&D  San Francisco   \n",
       "3  Admin/Maintenance/Security/Datawarehousing  Washington DC   \n",
       "4                        Programming & Design         Boston   \n",
       "\n",
       "                                     Functional Area  \\\n",
       "0  Marketing , Advertising , MR , PR , Media Plan...   \n",
       "1              Sales , Retail , Business Development   \n",
       "2                           Engineering Design , R&D   \n",
       "3  IT Software - Application Programming , Mainte...   \n",
       "4                         IT Software - QA & Testing   \n",
       "\n",
       "                                Industry                              Role  \n",
       "0  Advertising, PR, MR, Event Management  Media Planning Executive/Manager  \n",
       "1         IT-Software, Software Services           Sales Executive/Officer  \n",
       "2                  Recruitment, Staffing                     R&D Executive  \n",
       "3         IT-Software, Software Services        Technical Support Engineer  \n",
       "4         IT-Software, Software Services                  Testing Engineer  "
      ]
     },
     "execution_count": 6,
     "metadata": {},
     "output_type": "execute_result"
    }
   ],
   "source": [
    "df = pd.read_json(\"jobs.json\")\n",
    "df.head()"
   ]
  },
  {
   "cell_type": "code",
   "execution_count": 63,
   "id": "a758df0c-3496-42ea-a02d-f4e540537b28",
   "metadata": {},
   "outputs": [
    {
     "data": {
      "text/html": [
       "<div>\n",
       "<style scoped>\n",
       "    .dataframe tbody tr th:only-of-type {\n",
       "        vertical-align: middle;\n",
       "    }\n",
       "\n",
       "    .dataframe tbody tr th {\n",
       "        vertical-align: top;\n",
       "    }\n",
       "\n",
       "    .dataframe thead th {\n",
       "        text-align: right;\n",
       "    }\n",
       "</style>\n",
       "<table border=\"1\" class=\"dataframe\">\n",
       "  <thead>\n",
       "    <tr style=\"text-align: right;\">\n",
       "      <th></th>\n",
       "      <th>Id</th>\n",
       "      <th>Job Title</th>\n",
       "      <th>Job Experience Required</th>\n",
       "      <th>Key Skills</th>\n",
       "      <th>Role Category</th>\n",
       "      <th>Location</th>\n",
       "      <th>Functional Area</th>\n",
       "      <th>Industry</th>\n",
       "      <th>Role</th>\n",
       "    </tr>\n",
       "  </thead>\n",
       "  <tbody>\n",
       "  </tbody>\n",
       "</table>\n",
       "</div>"
      ],
      "text/plain": [
       "Empty DataFrame\n",
       "Columns: [Id, Job Title, Job Experience Required, Key Skills, Role Category, Location, Functional Area, Industry, Role]\n",
       "Index: []"
      ]
     },
     "execution_count": 63,
     "metadata": {},
     "output_type": "execute_result"
    }
   ],
   "source": [
    "df.loc[df['Job Title'] == 'Python', :]"
   ]
  },
  {
   "cell_type": "code",
   "execution_count": 73,
   "id": "ff0430bb-eb39-491e-b975-8d1b552b2f92",
   "metadata": {},
   "outputs": [
    {
     "data": {
      "text/plain": [
       "Id                         31\n",
       "Job Title                  31\n",
       "Job Experience Required    31\n",
       "Key Skills                 31\n",
       "Role Category              31\n",
       "Location                   31\n",
       "Functional Area            31\n",
       "Industry                   31\n",
       "Role                       31\n",
       "dtype: int64"
      ]
     },
     "execution_count": 73,
     "metadata": {},
     "output_type": "execute_result"
    }
   ],
   "source": [
    "df.loc[df[\"Job Title\"].isin([\"Python Developer\"])].count()"
   ]
  },
  {
   "cell_type": "code",
   "execution_count": 13,
   "id": "347d8ea7-9f9b-4d38-a215-ad4409d0501e",
   "metadata": {},
   "outputs": [
    {
     "data": {
      "text/plain": [
       "Job Title    191\n",
       "dtype: int64"
      ]
     },
     "execution_count": 13,
     "metadata": {},
     "output_type": "execute_result"
    }
   ],
   "source": [
    "jobs = []\n",
    "df.loc[df[\"Job Title\"].str.contains(\"Python\"), [\"Job Title\"]].count()"
   ]
  },
  {
   "cell_type": "code",
   "execution_count": 68,
   "id": "0a314527-f30c-4d2a-8395-1397b254bb2d",
   "metadata": {},
   "outputs": [
    {
     "data": {
      "text/plain": [
       "Id                         78\n",
       "Job Title                  78\n",
       "Job Experience Required    78\n",
       "Key Skills                 78\n",
       "Role Category              78\n",
       "Location                   78\n",
       "Functional Area            78\n",
       "Industry                   78\n",
       "Role                       78\n",
       "dtype: int64"
      ]
     },
     "execution_count": 68,
     "metadata": {},
     "output_type": "execute_result"
    }
   ],
   "source": [
    "df.loc[df[\"Job Title\"].str.match(\"Python\")].count()"
   ]
  },
  {
   "cell_type": "code",
   "execution_count": 1,
   "id": "66901556-a041-47d0-b9ba-905514bde619",
   "metadata": {},
   "outputs": [],
   "source": [
    "from flask import Flask"
   ]
  },
  {
   "cell_type": "code",
   "execution_count": 3,
   "id": "8d14504b-1bc7-41b5-9984-be2edee9e669",
   "metadata": {},
   "outputs": [
    {
     "name": "stdout",
     "output_type": "stream",
     "text": [
      " * Serving Flask app \"__main__\" (lazy loading)\n",
      " * Environment: production\n",
      "\u001b[31m   WARNING: This is a development server. Do not use it in a production deployment.\u001b[0m\n",
      "\u001b[2m   Use a production WSGI server instead.\u001b[0m\n",
      " * Debug mode: off\n"
     ]
    },
    {
     "name": "stderr",
     "output_type": "stream",
     "text": [
      " * Running on http://127.0.0.1:5000/ (Press CTRL+C to quit)\n",
      "127.0.0.1 - - [14/Oct/2022 07:18:10] \"GET / HTTP/1.1\" 200 -\n",
      "127.0.0.1 - - [14/Oct/2022 07:18:10] \"GET /apple-touch-icon-precomposed.png HTTP/1.1\" 404 -\n",
      "127.0.0.1 - - [14/Oct/2022 07:18:10] \"GET /apple-touch-icon.png HTTP/1.1\" 404 -\n",
      "127.0.0.1 - - [14/Oct/2022 07:28:11] \"GET / HTTP/1.1\" 200 -\n"
     ]
    }
   ],
   "source": []
  },
  {
   "cell_type": "code",
   "execution_count": 1,
   "id": "c078884b-bb5d-481c-ae27-d38eb9323dba",
   "metadata": {},
   "outputs": [
    {
     "ename": "NameError",
     "evalue": "name 'jobs' is not defined",
     "output_type": "error",
     "traceback": [
      "\u001b[0;31m---------------------------------------------------------------------------\u001b[0m",
      "\u001b[0;31mNameError\u001b[0m                                 Traceback (most recent call last)",
      "Input \u001b[0;32mIn [1]\u001b[0m, in \u001b[0;36m<cell line: 1>\u001b[0;34m()\u001b[0m\n\u001b[0;32m----> 1\u001b[0m data \u001b[38;5;241m=\u001b[39m \u001b[43mjobs\u001b[49m\u001b[38;5;241m.\u001b[39mjson()\n\u001b[1;32m      2\u001b[0m \u001b[38;5;28mlen\u001b[39m(data)\n",
      "\u001b[0;31mNameError\u001b[0m: name 'jobs' is not defined"
     ]
    }
   ],
   "source": [
    "data = jobs.json()\n",
    "len(data)"
   ]
  },
  {
   "cell_type": "code",
   "execution_count": null,
   "id": "b444ee19-2c5d-4174-946a-a39995ed60ee",
   "metadata": {},
   "outputs": [],
   "source": []
  }
 ],
 "metadata": {
  "kernelspec": {
   "display_name": "Python 3 (ipykernel)",
   "language": "python",
   "name": "python3"
  },
  "language_info": {
   "codemirror_mode": {
    "name": "ipython",
    "version": 3
   },
   "file_extension": ".py",
   "mimetype": "text/x-python",
   "name": "python",
   "nbconvert_exporter": "python",
   "pygments_lexer": "ipython3",
   "version": "3.9.12"
  }
 },
 "nbformat": 4,
 "nbformat_minor": 5
}
