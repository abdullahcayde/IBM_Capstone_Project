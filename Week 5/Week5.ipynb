{
 "cells": [
  {
   "cell_type": "code",
   "execution_count": 1,
   "id": "324a6b65-f36a-4e0f-b17b-f43b6d8bb56c",
   "metadata": {},
   "outputs": [],
   "source": [
    "import pandas as pd"
   ]
  },
  {
   "cell_type": "code",
   "execution_count": 92,
   "id": "145e007c-994b-48d3-a0ab-f7e992e49e3c",
   "metadata": {},
   "outputs": [
    {
     "data": {
      "text/html": [
       "<div>\n",
       "<style scoped>\n",
       "    .dataframe tbody tr th:only-of-type {\n",
       "        vertical-align: middle;\n",
       "    }\n",
       "\n",
       "    .dataframe tbody tr th {\n",
       "        vertical-align: top;\n",
       "    }\n",
       "\n",
       "    .dataframe thead th {\n",
       "        text-align: right;\n",
       "    }\n",
       "</style>\n",
       "<table border=\"1\" class=\"dataframe\">\n",
       "  <thead>\n",
       "    <tr style=\"text-align: right;\">\n",
       "      <th></th>\n",
       "      <th>Respondent</th>\n",
       "      <th>MainBranch</th>\n",
       "      <th>Hobbyist</th>\n",
       "      <th>OpenSourcer</th>\n",
       "      <th>OpenSource</th>\n",
       "      <th>Employment</th>\n",
       "      <th>Country</th>\n",
       "      <th>Student</th>\n",
       "      <th>EdLevel</th>\n",
       "      <th>UndergradMajor</th>\n",
       "      <th>...</th>\n",
       "      <th>WelcomeChange</th>\n",
       "      <th>SONewContent</th>\n",
       "      <th>Age</th>\n",
       "      <th>Gender</th>\n",
       "      <th>Trans</th>\n",
       "      <th>Sexuality</th>\n",
       "      <th>Ethnicity</th>\n",
       "      <th>Dependents</th>\n",
       "      <th>SurveyLength</th>\n",
       "      <th>SurveyEase</th>\n",
       "    </tr>\n",
       "  </thead>\n",
       "  <tbody>\n",
       "    <tr>\n",
       "      <th>0</th>\n",
       "      <td>4</td>\n",
       "      <td>I am a developer by profession</td>\n",
       "      <td>No</td>\n",
       "      <td>Never</td>\n",
       "      <td>The quality of OSS and closed source software ...</td>\n",
       "      <td>Employed full-time</td>\n",
       "      <td>United States</td>\n",
       "      <td>No</td>\n",
       "      <td>Bachelor’s degree (BA, BS, B.Eng., etc.)</td>\n",
       "      <td>Computer science, computer engineering, or sof...</td>\n",
       "      <td>...</td>\n",
       "      <td>Just as welcome now as I felt last year</td>\n",
       "      <td>Tech articles written by other developers;Indu...</td>\n",
       "      <td>22.0</td>\n",
       "      <td>Man</td>\n",
       "      <td>No</td>\n",
       "      <td>Straight / Heterosexual</td>\n",
       "      <td>White or of European descent</td>\n",
       "      <td>No</td>\n",
       "      <td>Appropriate in length</td>\n",
       "      <td>Easy</td>\n",
       "    </tr>\n",
       "    <tr>\n",
       "      <th>1</th>\n",
       "      <td>9</td>\n",
       "      <td>I am a developer by profession</td>\n",
       "      <td>Yes</td>\n",
       "      <td>Once a month or more often</td>\n",
       "      <td>The quality of OSS and closed source software ...</td>\n",
       "      <td>Employed full-time</td>\n",
       "      <td>New Zealand</td>\n",
       "      <td>No</td>\n",
       "      <td>Some college/university study without earning ...</td>\n",
       "      <td>Computer science, computer engineering, or sof...</td>\n",
       "      <td>...</td>\n",
       "      <td>Just as welcome now as I felt last year</td>\n",
       "      <td>NaN</td>\n",
       "      <td>23.0</td>\n",
       "      <td>Man</td>\n",
       "      <td>No</td>\n",
       "      <td>Bisexual</td>\n",
       "      <td>White or of European descent</td>\n",
       "      <td>No</td>\n",
       "      <td>Appropriate in length</td>\n",
       "      <td>Neither easy nor difficult</td>\n",
       "    </tr>\n",
       "  </tbody>\n",
       "</table>\n",
       "<p>2 rows × 70 columns</p>\n",
       "</div>"
      ],
      "text/plain": [
       "   Respondent                      MainBranch Hobbyist  \\\n",
       "0           4  I am a developer by profession       No   \n",
       "1           9  I am a developer by profession      Yes   \n",
       "\n",
       "                  OpenSourcer  \\\n",
       "0                       Never   \n",
       "1  Once a month or more often   \n",
       "\n",
       "                                          OpenSource          Employment  \\\n",
       "0  The quality of OSS and closed source software ...  Employed full-time   \n",
       "1  The quality of OSS and closed source software ...  Employed full-time   \n",
       "\n",
       "         Country Student                                            EdLevel  \\\n",
       "0  United States      No           Bachelor’s degree (BA, BS, B.Eng., etc.)   \n",
       "1    New Zealand      No  Some college/university study without earning ...   \n",
       "\n",
       "                                      UndergradMajor  ...  \\\n",
       "0  Computer science, computer engineering, or sof...  ...   \n",
       "1  Computer science, computer engineering, or sof...  ...   \n",
       "\n",
       "                             WelcomeChange  \\\n",
       "0  Just as welcome now as I felt last year   \n",
       "1  Just as welcome now as I felt last year   \n",
       "\n",
       "                                        SONewContent   Age Gender Trans  \\\n",
       "0  Tech articles written by other developers;Indu...  22.0    Man    No   \n",
       "1                                                NaN  23.0    Man    No   \n",
       "\n",
       "                 Sexuality                     Ethnicity Dependents  \\\n",
       "0  Straight / Heterosexual  White or of European descent         No   \n",
       "1                 Bisexual  White or of European descent         No   \n",
       "\n",
       "            SurveyLength                  SurveyEase  \n",
       "0  Appropriate in length                        Easy  \n",
       "1  Appropriate in length  Neither easy nor difficult  \n",
       "\n",
       "[2 rows x 70 columns]"
      ]
     },
     "execution_count": 92,
     "metadata": {},
     "output_type": "execute_result"
    }
   ],
   "source": [
    "demog = pd.read_csv(\"m5_survey_data_demographics.csv\")\n",
    "df = demog.copy()\n",
    "df.head(2)"
   ]
  },
  {
   "cell_type": "code",
   "execution_count": 41,
   "id": "b283e6b7-52ea-403b-a563-c2a5ed275820",
   "metadata": {},
   "outputs": [
    {
     "data": {
      "text/plain": [
       "135"
      ]
     },
     "execution_count": 41,
     "metadata": {},
     "output_type": "execute_result"
    }
   ],
   "source": [
    "df.Country.nunique()"
   ]
  },
  {
   "cell_type": "code",
   "execution_count": 61,
   "id": "c0ea602d-e951-478a-ad63-c5c3d11bf4f4",
   "metadata": {},
   "outputs": [
    {
     "data": {
      "text/plain": [
       "0"
      ]
     },
     "execution_count": 61,
     "metadata": {},
     "output_type": "execute_result"
    }
   ],
   "source": [
    "df.Country.isna().sum()"
   ]
  },
  {
   "cell_type": "code",
   "execution_count": 63,
   "id": "15419de9-a07f-4569-9b55-bb5ea35f2347",
   "metadata": {},
   "outputs": [
    {
     "data": {
      "text/plain": [
       "708"
      ]
     },
     "execution_count": 63,
     "metadata": {},
     "output_type": "execute_result"
    }
   ],
   "source": [
    "df.Country[df.Country == 'Germany'].count().sum()"
   ]
  },
  {
   "cell_type": "code",
   "execution_count": 82,
   "id": "907e1033-66e4-4901-9d91-bd196c93df8e",
   "metadata": {},
   "outputs": [
    {
     "data": {
      "text/plain": [
       "Gender\n",
       "Man                                                            10480\n",
       "Man;Non-binary, genderqueer, or gender non-conforming             26\n",
       "Non-binary, genderqueer, or gender non-conforming                 63\n",
       "Woman                                                            731\n",
       "Woman;Man                                                          9\n",
       "Woman;Man;Non-binary, genderqueer, or gender non-conforming        2\n",
       "Woman;Non-binary, genderqueer, or gender non-conforming           14\n",
       "Name: Respondent, dtype: int64"
      ]
     },
     "execution_count": 82,
     "metadata": {},
     "output_type": "execute_result"
    }
   ],
   "source": [
    "df.groupby('Gender')['Respondent'].count()"
   ]
  },
  {
   "cell_type": "code",
   "execution_count": 86,
   "id": "1ca1e9d2-f7f2-49f1-a53d-31cdebdd96fa",
   "metadata": {},
   "outputs": [],
   "source": [
    "dff = df.loc[(df.Gender == 'Man') | (df.Gender == 'Woman')]"
   ]
  },
  {
   "cell_type": "code",
   "execution_count": 88,
   "id": "2c87c77c-30db-494d-ae06-afbb01523b1a",
   "metadata": {},
   "outputs": [
    {
     "data": {
      "text/plain": [
       "Respondent      693\n",
       "MainBranch      693\n",
       "Hobbyist        693\n",
       "OpenSourcer     693\n",
       "OpenSource      687\n",
       "               ... \n",
       "Sexuality       666\n",
       "Ethnicity       662\n",
       "Dependents      683\n",
       "SurveyLength    691\n",
       "SurveyEase      692\n",
       "Length: 70, dtype: int64"
      ]
     },
     "execution_count": 88,
     "metadata": {},
     "output_type": "execute_result"
    }
   ],
   "source": [
    "dff.loc[df.Country == 'Germany'].count()"
   ]
  },
  {
   "cell_type": "code",
   "execution_count": 96,
   "id": "b38ea222-3e2f-4682-8de3-74395e2a737e",
   "metadata": {},
   "outputs": [
    {
     "name": "stdout",
     "output_type": "stream",
     "text": [
      "<class 'pandas.core.frame.DataFrame'>\n",
      "RangeIndex: 11398 entries, 0 to 11397\n",
      "Data columns (total 70 columns):\n",
      " #   Column          Non-Null Count  Dtype  \n",
      "---  ------          --------------  -----  \n",
      " 0   Respondent      11398 non-null  int64  \n",
      " 1   MainBranch      11398 non-null  object \n",
      " 2   Hobbyist        11398 non-null  object \n",
      " 3   OpenSourcer     11398 non-null  object \n",
      " 4   OpenSource      11317 non-null  object \n",
      " 5   Employment      11398 non-null  object \n",
      " 6   Country         11398 non-null  object \n",
      " 7   Student         11347 non-null  object \n",
      " 8   EdLevel         11286 non-null  object \n",
      " 9   UndergradMajor  10661 non-null  object \n",
      " 10  EduOther        11234 non-null  object \n",
      " 11  OrgSize         11302 non-null  object \n",
      " 12  DevType         11333 non-null  object \n",
      " 13  YearsCode       11389 non-null  object \n",
      " 14  Age1stCode      11385 non-null  object \n",
      " 15  YearsCodePro    11382 non-null  object \n",
      " 16  CareerSat       11398 non-null  object \n",
      " 17  JobSat          11397 non-null  object \n",
      " 18  MgrIdiot        10905 non-null  object \n",
      " 19  MgrMoney        10901 non-null  object \n",
      " 20  MgrWant         10905 non-null  object \n",
      " 21  JobSeek         11398 non-null  object \n",
      " 22  LastHireDate    11398 non-null  object \n",
      " 23  LastInt         10985 non-null  object \n",
      " 24  FizzBuzz        11361 non-null  object \n",
      " 25  JobFactors      11395 non-null  object \n",
      " 26  ResumeUpdate    11359 non-null  object \n",
      " 27  CurrencySymbol  11398 non-null  object \n",
      " 28  CurrencyDesc    11398 non-null  object \n",
      " 29  CompTotal       10589 non-null  float64\n",
      " 30  CompFreq        11192 non-null  object \n",
      " 31  ConvertedComp   10582 non-null  float64\n",
      " 32  WorkWeekHrs     11276 non-null  float64\n",
      " 33  WorkPlan        11277 non-null  object \n",
      " 34  WorkChallenge   11234 non-null  object \n",
      " 35  WorkRemote      11390 non-null  object \n",
      " 36  WorkLoc         11366 non-null  object \n",
      " 37  ImpSyn          11393 non-null  object \n",
      " 38  CodeRev         11397 non-null  object \n",
      " 39  CodeRevHrs      8972 non-null   float64\n",
      " 40  UnitTests       11369 non-null  object \n",
      " 41  PurchaseHow     11202 non-null  object \n",
      " 42  PurchaseWhat    11360 non-null  object \n",
      " 43  BetterLife      11300 non-null  object \n",
      " 44  ITperson        11363 non-null  object \n",
      " 45  OffOn           11360 non-null  object \n",
      " 46  SocialMedia     11105 non-null  object \n",
      " 47  Extraversion    11378 non-null  object \n",
      " 48  ScreenName      10891 non-null  object \n",
      " 49  SOVisit1st      11073 non-null  object \n",
      " 50  SOVisitFreq     11393 non-null  object \n",
      " 51  SOVisitTo       11397 non-null  object \n",
      " 52  SOFindAnswer    11395 non-null  object \n",
      " 53  SOTimeSaved     11348 non-null  object \n",
      " 54  SOHowMuchTime   9481 non-null   object \n",
      " 55  SOAccount       11397 non-null  object \n",
      " 56  SOPartFreq      10270 non-null  object \n",
      " 57  SOJobs          11392 non-null  object \n",
      " 58  EntTeams        11393 non-null  object \n",
      " 59  SOComm          11398 non-null  object \n",
      " 60  WelcomeChange   11313 non-null  object \n",
      " 61  SONewContent    9433 non-null   object \n",
      " 62  Age             11111 non-null  float64\n",
      " 63  Gender          11325 non-null  object \n",
      " 64  Trans           11275 non-null  object \n",
      " 65  Sexuality       10856 non-null  object \n",
      " 66  Ethnicity       10723 non-null  object \n",
      " 67  Dependents      11258 non-null  object \n",
      " 68  SurveyLength    11379 non-null  object \n",
      " 69  SurveyEase      11384 non-null  object \n",
      "dtypes: float64(5), int64(1), object(64)\n",
      "memory usage: 6.1+ MB\n"
     ]
    }
   ],
   "source": [
    "df.info()"
   ]
  },
  {
   "cell_type": "code",
   "execution_count": 110,
   "id": "8b4513f0-80c9-4d75-9c1a-373b7f1281dd",
   "metadata": {},
   "outputs": [
    {
     "data": {
      "text/plain": [
       "Country\n",
       "Other Country (Not Listed Above)               18\n",
       "Pakistan                                       93\n",
       "Panama                                          2\n",
       "Paraguay                                        4\n",
       "Peru                                           12\n",
       "Philippines                                    36\n",
       "Poland                                        205\n",
       "Portugal                                       69\n",
       "Qatar                                           1\n",
       "Republic of Korea                               1\n",
       "Republic of Moldova                            10\n",
       "Romania                                        95\n",
       "Russian Federation                            208\n",
       "Rwanda                                          1\n",
       "Saudi Arabia                                   12\n",
       "Senegal                                         2\n",
       "Serbia                                         53\n",
       "Singapore                                      33\n",
       "Slovakia                                       28\n",
       "Slovenia                                       35\n",
       "Somalia                                         1\n",
       "South Africa                                  102\n",
       "South Korea                                    15\n",
       "Spain                                         251\n",
       "Sri Lanka                                      40\n",
       "Sudan                                           2\n",
       "Swaziland                                       3\n",
       "Sweden                                        162\n",
       "Switzerland                                   148\n",
       "Syrian Arab Republic                            3\n",
       "Taiwan                                         23\n",
       "Thailand                                       19\n",
       "The former Yugoslav Republic of Macedonia       7\n",
       "Timor-Leste                                     1\n",
       "Togo                                            1\n",
       "Tunisia                                         9\n",
       "Turkey                                         96\n",
       "Turkmenistan                                    1\n",
       "Uganda                                          6\n",
       "Ukraine                                       108\n",
       "United Arab Emirates                           19\n",
       "United Kingdom                                821\n",
       "United Republic of Tanzania                     2\n",
       "United States                                3127\n",
       "Uruguay                                        16\n",
       "Uzbekistan                                      2\n",
       "Venezuela, Bolivarian Republic of...            7\n",
       "Viet Nam                                       12\n",
       "Yemen                                           1\n",
       "Zimbabwe                                        5\n",
       "Name: Respondent, dtype: int64"
      ]
     },
     "execution_count": 110,
     "metadata": {},
     "output_type": "execute_result"
    }
   ],
   "source": [
    "df.groupby(\"Country\")['Respondent'].count().tail(50)"
   ]
  },
  {
   "cell_type": "code",
   "execution_count": 102,
   "id": "de66f4c8-20ce-44f7-bee7-84367f956220",
   "metadata": {},
   "outputs": [
    {
     "data": {
      "text/plain": [
       "Respondent        0\n",
       "MainBranch        0\n",
       "Hobbyist          0\n",
       "OpenSourcer       0\n",
       "OpenSource       81\n",
       "               ... \n",
       "Sexuality       542\n",
       "Ethnicity       675\n",
       "Dependents      140\n",
       "SurveyLength     19\n",
       "SurveyEase       14\n",
       "Length: 70, dtype: int64"
      ]
     },
     "execution_count": 102,
     "metadata": {},
     "output_type": "execute_result"
    }
   ],
   "source": [
    "df.isna().sum()"
   ]
  },
  {
   "cell_type": "code",
   "execution_count": 107,
   "id": "2801adb3-bb8a-4f91-b1ab-0cd006a22cae",
   "metadata": {},
   "outputs": [
    {
     "data": {
      "text/plain": [
       "135"
      ]
     },
     "execution_count": 107,
     "metadata": {},
     "output_type": "execute_result"
    }
   ],
   "source": [
    "df.Country.nunique()"
   ]
  },
  {
   "cell_type": "code",
   "execution_count": 118,
   "id": "80700b57-1749-4e95-8bd1-f8128b0e3ad5",
   "metadata": {},
   "outputs": [
    {
     "data": {
      "text/plain": [
       "array(['United States', 'Republic of Moldova', 'United Kingdom', 'Italy',\n",
       "       'Mexico', 'Germany', 'Australia', 'South Africa', 'France',\n",
       "       'Netherlands', 'Finland', 'Sweden', 'Canada', 'Lebanon',\n",
       "       'Slovenia', 'Bangladesh', 'Ukraine', 'Singapore', 'Hungary',\n",
       "       'Pakistan', 'Indonesia', 'Switzerland', 'Greece', 'New Zealand',\n",
       "       'Uruguay', 'Austria', 'Brazil', 'Russian Federation', 'India',\n",
       "       'Thailand', 'Lithuania', 'Taiwan', 'Poland', 'Ireland', 'Romania',\n",
       "       'Spain', 'Portugal', 'Argentina', 'Hong Kong (S.A.R.)'],\n",
       "      dtype=object)"
      ]
     },
     "execution_count": 118,
     "metadata": {},
     "output_type": "execute_result"
    }
   ],
   "source": [
    "df2 = df.loc[(df['Gender'] !='Man') & (df.Gender !='Woman')]\n",
    "df2.Country.unique()"
   ]
  },
  {
   "cell_type": "code",
   "execution_count": 119,
   "id": "f31b137e-cf24-4986-a9e7-f25326440914",
   "metadata": {},
   "outputs": [
    {
     "data": {
      "text/plain": [
       "Country\n",
       "Argentina               1\n",
       "Australia               5\n",
       "Austria                 1\n",
       "Bangladesh              1\n",
       "Brazil                  4\n",
       "Canada                  6\n",
       "Finland                 2\n",
       "France                  6\n",
       "Germany                15\n",
       "Greece                  1\n",
       "Hong Kong (S.A.R.)      1\n",
       "Hungary                 2\n",
       "India                   7\n",
       "Indonesia               2\n",
       "Ireland                 1\n",
       "Italy                   2\n",
       "Lebanon                 1\n",
       "Lithuania               1\n",
       "Mexico                  4\n",
       "Netherlands             6\n",
       "New Zealand             1\n",
       "Pakistan                1\n",
       "Poland                  3\n",
       "Portugal                2\n",
       "Republic of Moldova     1\n",
       "Romania                 1\n",
       "Russian Federation      4\n",
       "Singapore               3\n",
       "Slovenia                1\n",
       "South Africa            4\n",
       "Spain                   1\n",
       "Sweden                  3\n",
       "Switzerland             4\n",
       "Taiwan                  2\n",
       "Thailand                2\n",
       "Ukraine                 2\n",
       "United Kingdom         13\n",
       "United States          69\n",
       "Uruguay                 1\n",
       "Name: Respondent, dtype: int64"
      ]
     },
     "execution_count": 119,
     "metadata": {},
     "output_type": "execute_result"
    }
   ],
   "source": [
    "df2.groupby('Country')['Respondent'].count()"
   ]
  },
  {
   "cell_type": "code",
   "execution_count": null,
   "id": "3b009103-9e48-4905-b52e-4d4ca7eaa173",
   "metadata": {},
   "outputs": [],
   "source": []
  }
 ],
 "metadata": {
  "kernelspec": {
   "display_name": "Python 3 (ipykernel)",
   "language": "python",
   "name": "python3"
  },
  "language_info": {
   "codemirror_mode": {
    "name": "ipython",
    "version": 3
   },
   "file_extension": ".py",
   "mimetype": "text/x-python",
   "name": "python",
   "nbconvert_exporter": "python",
   "pygments_lexer": "ipython3",
   "version": "3.9.12"
  }
 },
 "nbformat": 4,
 "nbformat_minor": 5
}
